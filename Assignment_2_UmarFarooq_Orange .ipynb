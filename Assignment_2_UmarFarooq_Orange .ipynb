{
 "cells": [
  {
   "cell_type": "code",
   "execution_count": null,
   "id": "135f3ac0",
   "metadata": {},
   "outputs": [],
   "source": [
    "##ASSIGNMENT Number 2\n",
    "#Q1 GUESSING GAME "
   ]
  },
  {
   "cell_type": "code",
   "execution_count": null,
   "id": "e2e50596",
   "metadata": {},
   "outputs": [],
   "source": [
    "print(\"Welcome to the Guessing game!-\")\n",
    "from random import randint \n",
    "secret_number= randint(1,50)\n",
    "attempts = 5\n",
    "while attempts >0:\n",
    "    try:user_input= int(input(\"Enter Your guess: \"))\n",
    "    except ValueError:\n",
    "            print(\"Invalid input! Please add valid number\" )\n",
    "            continue \n",
    "    if user_input > secret_number:\n",
    "        attempts -=1\n",
    "        print(\"Try again! Your guess is too high. You have\",attempts,\"attempts left \")\n",
    "        \n",
    "    elif user_input < secret_number:\n",
    "        print(\"Try again! Your guess is too low. You have\",attempts,\"attempts left \")\n",
    "            \n",
    "    else:\n",
    "        print(\"Congratulations, You guessed the secret number\", secret_number,\"correctly!\")\n",
    "        break \n",
    "        \n",
    "if attempts==0:\n",
    "    print(\"Game Over! The secret number was\", secret_number,\" Better luck next time!\")"
   ]
  },
  {
   "cell_type": "code",
   "execution_count": null,
   "id": "1b6fed7c",
   "metadata": {},
   "outputs": [],
   "source": [
    "## Q2 (a)\n",
    "def num_values(strings):\n",
    "    num_vowels= 0\n",
    "    vowels=\"aeiouAEIOU\"\n",
    "    for letters in strings:\n",
    "            if letters in vowels:\n",
    "                num_vowels +=1\n",
    "    return num_vowels"
   ]
  },
  {
   "cell_type": "code",
   "execution_count": null,
   "id": "17d2552b",
   "metadata": {},
   "outputs": [],
   "source": [
    "num_values(\"Learning Python is fun and engaging\")"
   ]
  },
  {
   "cell_type": "code",
   "execution_count": null,
   "id": "74c77926",
   "metadata": {},
   "outputs": [],
   "source": [
    "#Q2b)\n",
    "def hours_to_min(integer):\n",
    "    my_dict={\"hours\": integer, \"minutes\": 60*integer}\n",
    "    return my_dict\n",
    "    "
   ]
  },
  {
   "cell_type": "code",
   "execution_count": null,
   "id": "b5d476be",
   "metadata": {},
   "outputs": [],
   "source": [
    "hours_to_min(2.5)"
   ]
  },
  {
   "cell_type": "code",
   "execution_count": null,
   "id": "ef206f26",
   "metadata": {},
   "outputs": [],
   "source": [
    "# Q2 (c)\n",
    "\n",
    "def table_of_8(number):\n",
    "    for i in range(1,13):\n",
    "        print(i,\"x\",number,\"=\", i*number)\n",
    "        \n",
    "table_of_8(8)"
   ]
  },
  {
   "cell_type": "code",
   "execution_count": null,
   "id": "6135808c",
   "metadata": {},
   "outputs": [],
   "source": [
    "#Q2)(d)\n",
    "def elegibility(age, gpa):\n",
    "    if age >=18 and gpa >=3:\n",
    "        return (\"True\")\n",
    "    else:\n",
    "        return (\"False\")"
   ]
  },
  {
   "cell_type": "code",
   "execution_count": null,
   "id": "ef53afa9",
   "metadata": {},
   "outputs": [],
   "source": [
    "elegibility(30,3.2)"
   ]
  },
  {
   "cell_type": "code",
   "execution_count": null,
   "id": "67b663d0",
   "metadata": {},
   "outputs": [],
   "source": [
    "elegibility(gpa= 3.5, age = 17)"
   ]
  },
  {
   "cell_type": "code",
   "execution_count": null,
   "id": "5cad0add",
   "metadata": {},
   "outputs": [],
   "source": []
  }
 ],
 "metadata": {
  "kernelspec": {
   "display_name": "Python 3 (ipykernel)",
   "language": "python",
   "name": "python3"
  },
  "language_info": {
   "codemirror_mode": {
    "name": "ipython",
    "version": 3
   },
   "file_extension": ".py",
   "mimetype": "text/x-python",
   "name": "python",
   "nbconvert_exporter": "python",
   "pygments_lexer": "ipython3",
   "version": "3.11.5"
  }
 },
 "nbformat": 4,
 "nbformat_minor": 5
}
